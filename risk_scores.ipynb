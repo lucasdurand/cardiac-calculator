{
 "cells": [
  {
   "cell_type": "markdown",
   "metadata": {},
   "source": [
    "# Risk Scores\n",
    "\n",
    "A practical implementation of cardiac risk scores for various scoring models:\n",
    "\n",
    "* CARPREGII"
   ]
  },
  {
   "cell_type": "code",
   "execution_count": 15,
   "metadata": {},
   "outputs": [],
   "source": [
    "from more_itertools import always_iterable"
   ]
  },
  {
   "cell_type": "code",
   "execution_count": 16,
   "metadata": {},
   "outputs": [],
   "source": [
    "predictors = {\n",
    "    \"Prior cardiac events or arrhythmias\": 3,\n",
    "    \"Baseline NYHA III-IV or cyanosis\": 3,\n",
    "    \"Mechanical valve\": 3,\n",
    "    \"Ventricular dysfunction\": 2,\n",
    "    \"High risk left-sided valve disease/left ventricular outflow tract obstruction\": 2,\n",
    "    \"Pulmonary hypertension\": 2,\n",
    "    \"Coronary artery disease\": 2,\n",
    "    \"High risk aortopath\": 2,\n",
    "    \"No prior cardiac intervention\": 1,\n",
    "    \"Late pregnancy assessment\": 1\n",
    "}"
   ]
  },
  {
   "cell_type": "code",
   "execution_count": 17,
   "metadata": {},
   "outputs": [],
   "source": [
    "risk_pct = {\n",
    "    0: 0,\n",
    "    1: 0.05,\n",
    "    2: 0.1,\n",
    "    3: 0.15,\n",
    "    4: 0.22,\n",
    "    5: 0.41\n",
    "}"
   ]
  },
  {
   "cell_type": "code",
   "execution_count": 39,
   "metadata": {},
   "outputs": [],
   "source": [
    "class UnknownRiskFactor(Exception):\n",
    "    \"\"\"\"\"\"\n",
    "\n",
    "def calculate_risk_score(factors: str | list[str]) -> int:\n",
    "    try:\n",
    "        score = sum(predictors[factor] for factor in always_iterable(factors))\n",
    "    except KeyError as e:\n",
    "        raise UnknownRiskFactor(f\"The provided risk factor {e} is not registered\") from e\n",
    "    return score\n",
    "\n",
    "def calculate_risk_percentage(score:int) -> float:\n",
    "    bounded_score = min(max(min(risk_pct), score), max(risk_pct))\n",
    "    return risk_pct[bounded_score]"
   ]
  },
  {
   "cell_type": "code",
   "execution_count": 40,
   "metadata": {},
   "outputs": [],
   "source": [
    "score = calculate_risk_score(factors=[\"Mechanical valve\"])\n",
    "risk = calculate_risk_percentage(score=score)"
   ]
  },
  {
   "cell_type": "markdown",
   "metadata": {},
   "source": [
    "## Tests"
   ]
  },
  {
   "cell_type": "code",
   "execution_count": 41,
   "metadata": {},
   "outputs": [],
   "source": [
    "import ipytest\n",
    "ipytest.autoconfig()"
   ]
  },
  {
   "cell_type": "code",
   "execution_count": 42,
   "metadata": {},
   "outputs": [],
   "source": [
    "def test_calculate_healthy_patient():\n",
    "    factors = []\n",
    "    score = calculate_risk_score(factors=factors)\n",
    "    risk = calculate_risk_percentage(score=score)\n",
    "\n",
    "    assert score == 0\n",
    "    assert risk == 0\n",
    "\n",
    "    factors = None\n",
    "    score = calculate_risk_score(factors=factors)\n",
    "    risk = calculate_risk_percentage(score=score)\n",
    "\n",
    "    assert score == 0\n",
    "    assert risk == 0\n",
    "\n",
    "\n",
    "def test_calculate_single_factor():\n",
    "    factors = \"Late pregnancy assessment\"\n",
    "    score = calculate_risk_score(factors=factors)\n",
    "    assert score == 1\n"
   ]
  },
  {
   "cell_type": "code",
   "execution_count": 43,
   "metadata": {},
   "outputs": [
    {
     "name": "stdout",
     "output_type": "stream",
     "text": [
      "\u001b[32m.\u001b[0m\u001b[32m.\u001b[0m\u001b[32m                                                                                           [100%]\u001b[0m\n",
      "\u001b[32m\u001b[32m\u001b[1m2 passed\u001b[0m\u001b[32m in 0.02s\u001b[0m\u001b[0m\n"
     ]
    },
    {
     "data": {
      "text/plain": [
       "<ExitCode.OK: 0>"
      ]
     },
     "execution_count": 43,
     "metadata": {},
     "output_type": "execute_result"
    }
   ],
   "source": [
    "ipytest.run()"
   ]
  },
  {
   "cell_type": "code",
   "execution_count": null,
   "metadata": {},
   "outputs": [],
   "source": []
  }
 ],
 "metadata": {
  "interpreter": {
   "hash": "46059af41fc611fbaa4db1e75e5e616f43635cecc9f77de830848b2f5dcd9300"
  },
  "kernelspec": {
   "display_name": "Python 3.10.7 ('cardiac-calculator-0q14wGil')",
   "language": "python",
   "name": "python3"
  },
  "language_info": {
   "codemirror_mode": {
    "name": "ipython",
    "version": 3
   },
   "file_extension": ".py",
   "mimetype": "text/x-python",
   "name": "python",
   "nbconvert_exporter": "python",
   "pygments_lexer": "ipython3",
   "version": "3.10.7"
  },
  "orig_nbformat": 4
 },
 "nbformat": 4,
 "nbformat_minor": 2
}
